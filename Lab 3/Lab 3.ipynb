{
 "cells": [
  {
   "cell_type": "code",
   "execution_count": null,
   "id": "7deab27e",
   "metadata": {},
   "outputs": [],
   "source": [
    "from fastapi import FastAPI\n",
    "from pydantic import BaseModel\n",
    "import joblib\n",
    "import numpy as np\n",
    "import logging\n",
    "from fastapi.testclient import TestClient\n",
    "import hyperdx\n"
   ]
  },
  {
   "cell_type": "code",
   "execution_count": 2,
   "id": "5e41472d",
   "metadata": {},
   "outputs": [],
   "source": [
    "# Logging setup\n",
    "logging.basicConfig(level=logging.INFO)\n",
    "logger = logging.getLogger(__name__)\n"
   ]
  },
  {
   "cell_type": "code",
   "execution_count": 3,
   "id": "42fc36a0",
   "metadata": {},
   "outputs": [],
   "source": [
    "# Load model\n",
    "model = joblib.load(\"xgb_model.pkl\")\n",
    "app = FastAPI()"
   ]
  },
  {
   "cell_type": "code",
   "execution_count": 4,
   "id": "2c92c58f",
   "metadata": {},
   "outputs": [],
   "source": [
    "# Define input schema\n",
    "class CustomerData(BaseModel):\n",
    "    CreditScore: int\n",
    "    Gender: int\n",
    "    Age: int\n",
    "    Tenure: int\n",
    "    Balance: float\n",
    "    NumOfProducts: int\n",
    "    HasCrCard: int\n",
    "    IsActiveMember: int\n",
    "    EstimatedSalary: float\n",
    "    Geography_Germany: int\n",
    "    Geography_Spain: int\n"
   ]
  },
  {
   "cell_type": "code",
   "execution_count": 5,
   "id": "ff78f7c1",
   "metadata": {},
   "outputs": [],
   "source": [
    "# Home endpoint\n",
    "@app.get(\"/\")\n",
    "def home():\n",
    "    logger.info(\"Home endpoint hit.\")\n",
    "    return {\"message\": \"Welcome to Churn Prediction API\"}\n",
    "\n"
   ]
  },
  {
   "cell_type": "code",
   "execution_count": 6,
   "id": "bd891073",
   "metadata": {},
   "outputs": [],
   "source": [
    "# Health check\n",
    "@app.get(\"/health\")\n",
    "def health():\n",
    "    logger.info(\"Health check passed.\")\n",
    "    return {\"status\": \"Healthy\"}\n",
    "\n"
   ]
  },
  {
   "cell_type": "code",
   "execution_count": 7,
   "id": "8b70d081",
   "metadata": {},
   "outputs": [],
   "source": [
    "# Predict\n",
    "@app.post(\"/predict\")\n",
    "def predict(data: CustomerData):\n",
    "    logger.info(f\"Received data for prediction: {data}\")\n",
    "    \n",
    "    features = np.array([\n",
    "        [\n",
    "            data.CreditScore, data.Gender, data.Age, data.Tenure,\n",
    "            data.Balance, data.NumOfProducts, data.HasCrCard,\n",
    "            data.IsActiveMember, data.EstimatedSalary,\n",
    "            data.Geography_Germany, data.Geography_Spain\n",
    "        ]\n",
    "    ])\n",
    "    prediction = model.predict(features)\n",
    "    logger.info(f\"Prediction result: {prediction[0]}\")\n",
    "    return {\"churn_prediction\": int(prediction[0])}"
   ]
  },
  {
   "cell_type": "code",
   "execution_count": 8,
   "id": "1b6694f3",
   "metadata": {},
   "outputs": [],
   "source": [
    "#uvicorn main:app --reload"
   ]
  },
  {
   "cell_type": "code",
   "execution_count": 9,
   "id": "e629c2d3",
   "metadata": {},
   "outputs": [],
   "source": [
    "client = TestClient(app)\n",
    "\n",
    "def test_predict():\n",
    "    response = client.post(\"/predict\", json={\n",
    "        \"CreditScore\": 600,\n",
    "        \"Gender\": 1,\n",
    "        \"Age\": 40,\n",
    "        \"Tenure\": 3,\n",
    "        \"Balance\": 60000.0,\n",
    "        \"NumOfProducts\": 2,\n",
    "        \"HasCrCard\": 1,\n",
    "        \"IsActiveMember\": 1,\n",
    "        \"EstimatedSalary\": 50000.0,\n",
    "        \"Geography_Germany\": 1,\n",
    "        \"Geography_Spain\": 0\n",
    "    })\n",
    "    assert response.status_code == 200\n",
    "    assert \"churn_prediction\" in response.json()\n"
   ]
  },
  {
   "cell_type": "markdown",
   "id": "db8de7e1",
   "metadata": {},
   "source": [
    " # More Test Functions\n"
   ]
  },
  {
   "cell_type": "code",
   "execution_count": 10,
   "id": "432ab771",
   "metadata": {},
   "outputs": [],
   "source": [
    "client = TestClient(app)\n",
    "\n",
    "def test_home():\n",
    "    response = client.get(\"/\")\n",
    "    assert response.status_code == 200\n",
    "    assert response.json() == {\"message\": \"Welcome to Churn Prediction API\"}\n",
    "\n",
    "def test_health():\n",
    "    response = client.get(\"/health\")\n",
    "    assert response.status_code == 200\n",
    "    assert response.json() == {\"status\": \"Healthy\"}\n",
    "\n",
    "def test_predict():\n",
    "    response = client.post(\"/predict\", json={\n",
    "        \"CreditScore\": 600,\n",
    "        \"Gender\": 1,\n",
    "        \"Age\": 40,\n",
    "        \"Tenure\": 3,\n",
    "        \"Balance\": 60000.0,\n",
    "        \"NumOfProducts\": 2,\n",
    "        \"HasCrCard\": 1,\n",
    "        \"IsActiveMember\": 1,\n",
    "        \"EstimatedSalary\": 50000.0,\n",
    "        \"Geography_Germany\": 1,\n",
    "        \"Geography_Spain\": 0\n",
    "    })\n",
    "    assert response.status_code == 200\n",
    "    assert \"churn_prediction\" in response.json()\n"
   ]
  },
  {
   "cell_type": "code",
   "execution_count": null,
   "id": "64ac0b34",
   "metadata": {},
   "outputs": [],
   "source": [
    "hyperdx.configure(api_key=\"YOUR_HYPERDX_API_KEY\") #i try it with my api key\n",
    "logger = hyperdx.getLogger(\"churn-api\")\n",
    "logger.info(\"Server started\")\n"
   ]
  },
  {
   "cell_type": "code",
   "execution_count": null,
   "id": "6092627c",
   "metadata": {},
   "outputs": [],
   "source": []
  },
  {
   "cell_type": "code",
   "execution_count": null,
   "id": "1d6333de",
   "metadata": {},
   "outputs": [],
   "source": []
  },
  {
   "cell_type": "code",
   "execution_count": null,
   "id": "79bf5a96",
   "metadata": {},
   "outputs": [],
   "source": []
  },
  {
   "cell_type": "code",
   "execution_count": null,
   "id": "e242cd5d",
   "metadata": {},
   "outputs": [],
   "source": []
  },
  {
   "cell_type": "code",
   "execution_count": null,
   "id": "1ff33ff8",
   "metadata": {},
   "outputs": [],
   "source": []
  },
  {
   "cell_type": "code",
   "execution_count": null,
   "id": "69dfe36d",
   "metadata": {},
   "outputs": [],
   "source": []
  },
  {
   "cell_type": "code",
   "execution_count": null,
   "id": "6749547b",
   "metadata": {},
   "outputs": [],
   "source": []
  },
  {
   "cell_type": "code",
   "execution_count": null,
   "id": "5a187fe4",
   "metadata": {},
   "outputs": [],
   "source": []
  },
  {
   "cell_type": "code",
   "execution_count": null,
   "id": "2d010de4",
   "metadata": {},
   "outputs": [],
   "source": []
  },
  {
   "cell_type": "code",
   "execution_count": null,
   "id": "ebf01f23",
   "metadata": {},
   "outputs": [],
   "source": []
  },
  {
   "cell_type": "code",
   "execution_count": null,
   "id": "7ced91c3",
   "metadata": {},
   "outputs": [],
   "source": []
  },
  {
   "cell_type": "code",
   "execution_count": null,
   "id": "28945bd8",
   "metadata": {},
   "outputs": [],
   "source": []
  },
  {
   "cell_type": "code",
   "execution_count": null,
   "id": "866bbfa3",
   "metadata": {},
   "outputs": [],
   "source": []
  },
  {
   "cell_type": "code",
   "execution_count": null,
   "id": "8f4c7ad9",
   "metadata": {},
   "outputs": [],
   "source": []
  },
  {
   "cell_type": "code",
   "execution_count": null,
   "id": "ef8fb9f4",
   "metadata": {},
   "outputs": [],
   "source": []
  },
  {
   "cell_type": "code",
   "execution_count": null,
   "id": "d4c4094a",
   "metadata": {},
   "outputs": [],
   "source": []
  },
  {
   "cell_type": "code",
   "execution_count": null,
   "id": "d7e3bacc",
   "metadata": {},
   "outputs": [],
   "source": []
  },
  {
   "cell_type": "code",
   "execution_count": null,
   "id": "0dcd6310",
   "metadata": {},
   "outputs": [],
   "source": []
  }
 ],
 "metadata": {
  "kernelspec": {
   "display_name": "churn_prediction",
   "language": "python",
   "name": "python3"
  },
  "language_info": {
   "codemirror_mode": {
    "name": "ipython",
    "version": 3
   },
   "file_extension": ".py",
   "mimetype": "text/x-python",
   "name": "python",
   "nbconvert_exporter": "python",
   "pygments_lexer": "ipython3",
   "version": "3.12.9"
  }
 },
 "nbformat": 4,
 "nbformat_minor": 5
}
